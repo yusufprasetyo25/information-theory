{
  "nbformat": 4,
  "nbformat_minor": 0,
  "metadata": {
    "colab": {
      "name": "InfTheory_HW9_2_gradDescent.ipynb",
      "provenance": []
    },
    "kernelspec": {
      "display_name": "Python 3",
      "language": "python",
      "name": "python3"
    },
    "language_info": {
      "codemirror_mode": {
        "name": "ipython",
        "version": 3
      },
      "file_extension": ".py",
      "mimetype": "text/x-python",
      "name": "python",
      "nbconvert_exporter": "python",
      "pygments_lexer": "ipython3",
      "version": "3.8.5"
    }
  },
  "cells": [
    {
      "cell_type": "code",
      "metadata": {
        "id": "EFcHHjLKLJtu"
      },
      "source": [
        "import numpy as np\n",
        "import matplotlib.pyplot as plt\n",
        "import math"
      ],
      "execution_count": null,
      "outputs": []
    },
    {
      "cell_type": "code",
      "metadata": {
        "id": "mtSpX6mkLJty"
      },
      "source": [
        "def Gauss(m,v,x):\n",
        "    \"\"\"\n",
        "    Gaussian function\n",
        "    Needs numpy as np\n",
        "    Input: mean and variance\n",
        "    Output: Gaussian that meets the description at position x\n",
        "    \"\"\"\n",
        "    return np.exp(-(x-m)**2/(2*v))/(np.sqrt(2*np.pi*v))\n",
        "def lGauss(m,v,x):\n",
        "    \"\"\"\n",
        "    Gaussian function\n",
        "    Needs numpy as np\n",
        "    Input: mean and variance\n",
        "    Output: Log( Gaussian that meets the description at position x )\n",
        "    \"\"\"\n",
        "    return (-(x-m)**2/(2*v))-np.log((np.sqrt(2*np.pi*v)))"
      ],
      "execution_count": null,
      "outputs": []
    },
    {
      "cell_type": "code",
      "metadata": {
        "id": "9bzmqbb2LJty"
      },
      "source": [
        "def Integrate(f2, low, up, N, pxi, xi, pxs, pygx, lpygx, xs, SNR, Gauss, lGauss, a, pa):\n",
        "    \"\"\"\n",
        "    Integrate a function using trapezoidal rule\n",
        "    Needs numpy as np\n",
        "    Input: function to be integrated, lower bound, upper bound, number of increments\n",
        "    Output: Result of integration (must be a number)\n",
        "    \"\"\"\n",
        "    pts = np.linspace(low, up, N)\n",
        "    sums = 0\n",
        "    for pt in pts:\n",
        "        sums = sums + f2(pt, pxi, xi, pxs, pygx, lpygx, xs, SNR, Gauss, lGauss, a, pa)\n",
        "    sums = sums - f2(low, pxi, xi, pxs, pygx, lpygx, xs, SNR, Gauss, lGauss, a, pa)/2 - f2(up, pxi, xi, pxs, pygx, lpygx, xs, SNR, Gauss, lGauss, a, pa)/2\n",
        "    sums = sums*(up-low)/N\n",
        "    return sums"
      ],
      "execution_count": null,
      "outputs": []
    },
    {
      "cell_type": "code",
      "metadata": {
        "id": "z815tnVZLJtz"
      },
      "source": [
        "def pygx(yi, xi, SNR, Gauss):\n",
        "    \"\"\"\n",
        "    Assumes AWGN out from input x\n",
        "    Needs numpy as np\n",
        "    Input: x value\n",
        "    Output: probabilty of y given x in y\n",
        "    \"\"\"\n",
        "    v = 10**(-SNR/10)\n",
        "    return Gauss(xi,v,yi)\n",
        "def lpygx(yi, xi, SNR, lGauss):\n",
        "    \"\"\"\n",
        "    Assumes AWGN out from input x\n",
        "    Needs numpy as np\n",
        "    Input: x value\n",
        "    Output: log( probabilty of y given x in y )\n",
        "    \"\"\"\n",
        "    v = 10**(-SNR/10)\n",
        "    return lGauss(xi,v,yi)"
      ],
      "execution_count": null,
      "outputs": []
    },
    {
      "cell_type": "code",
      "metadata": {
        "id": "J_uMaal5LJt0"
      },
      "source": [
        "def xs(a, pa):\n",
        "    return np.array([-np.sqrt((0.5-(a**2)*pa)/(0.5-pa)),-a,a,np.sqrt((0.5-(a**2)*pa)/(0.5-pa))])"
      ],
      "execution_count": null,
      "outputs": []
    },
    {
      "cell_type": "code",
      "metadata": {
        "id": "h9lvxllRLJt0"
      },
      "source": [
        "def pxs(pa):\n",
        "    return np.array([0.5-pa,pa,pa,0.5-pa])"
      ],
      "execution_count": null,
      "outputs": []
    },
    {
      "cell_type": "code",
      "metadata": {
        "id": "QT_LT_x7LJt1"
      },
      "source": [
        "def f2(yi, pxi, xi, pxs, pygx, lpygx, xs, SNR, Gauss, lGauss, a, pa):\n",
        "    \"\"\"\n",
        "    Function to be integrated\n",
        "    Needs numpy as np\n",
        "    Input: component of function\n",
        "    Output: output of the function at a certain point\n",
        "    \"\"\"\n",
        "    den = 0\n",
        "    xss = xs(a, pa)\n",
        "    pxss = pxs(pa)\n",
        "    for j in range(len(xss)):\n",
        "        den = den + pxss[j]*pygx(yi, xss[j], SNR, Gauss)\n",
        "    lpygxi = lpygx(yi, xi, SNR, lGauss)\n",
        "    pygxi = pygx(yi, xi, SNR, Gauss)\n",
        "    return pxi*pygxi*(lpygxi-np.log(den))/np.log(2)"
      ],
      "execution_count": null,
      "outputs": []
    },
    {
      "cell_type": "code",
      "metadata": {
        "id": "DPl6pkhILJt1"
      },
      "source": [
        "def MI_disc_cont(xs, pxs, pygx, lpygx, Integrate, low, up, N, SNR, Gauss, lGauss, a, pa):\n",
        "    \"\"\"\n",
        "    Mutual information\n",
        "    Needs numpy as np\n",
        "    Input: x discrete, y continuous, z continuous\n",
        "    Outputs: value of mutual information\n",
        "    \"\"\"\n",
        "    insum = 0\n",
        "    xss = xs(a, pa)\n",
        "    pxss = pxs(pa)\n",
        "    for i in range(len(xss)):\n",
        "        insum = insum + Integrate(f2, low, up, N, pxss[i], xss[i], pxs, pygx, lpygx, xs, SNR, Gauss, lGauss, a, pa)\n",
        "    return insum"
      ],
      "execution_count": null,
      "outputs": []
    },
    {
      "cell_type": "code",
      "metadata": {
        "id": "pWmtBDb9LJt2"
      },
      "source": [
        "def grad_descent(xs, pxs, pygx, lpygx, Integrate, low, up, N, SNR, Gauss, lGauss, a, pa, numdif, step):\n",
        "    \"\"\"\n",
        "    Gradient Descent of MI_disc_cont\n",
        "    Input: starting a and pa; hyperparameter numdif and step\n",
        "    Output: stable a and pa which minimizes MI_disc_cont\n",
        "    \"\"\"\n",
        "    da = 0\n",
        "    dpa = 0\n",
        "    starting = MI_disc_cont(xs, pxs, pygx, lpygx, Integrate, low, up, N, SNR, Gauss, lGauss, a, pa)\n",
        "    ga = MI_disc_cont(xs, pxs, pygx, lpygx, Integrate, low, up, N, SNR, Gauss, lGauss, a+numdif, pa)\n",
        "    gpa = MI_disc_cont(xs, pxs, pygx, lpygx, Integrate, low, up, N, SNR, Gauss, lGauss, a, pa+numdif)\n",
        "    va = (ga - starting)/numdif\n",
        "    vpa = (gpa - starting)/numdif\n",
        "    print(\"a =\", a)\n",
        "    print(\"pa =\", pa)\n",
        "    print(\"b =\", np.sqrt((0.5-(a**2)*pa)/(0.5-pa)))\n",
        "    print(\"pb =\", 0.5-pa)\n",
        "    prev = 0\n",
        "    while prev < starting:\n",
        "        hatva = va/(np.sqrt(va**2+vpa**2))\n",
        "        hatvpa = vpa/(np.sqrt(va**2+vpa**2))\n",
        "        prev = MI_disc_cont(xs, pxs, pygx, lpygx, Integrate, low, up, N, SNR, Gauss, lGauss, a+da, pa+dpa)\n",
        "        da += step*hatva\n",
        "        dpa += step*hatvpa\n",
        "        va_prev = (ga - starting)/numdif\n",
        "        vpa_prev = (gpa - starting)/numdif\n",
        "        starting = MI_disc_cont(xs, pxs, pygx, lpygx, Integrate, low, up, N, SNR, Gauss, lGauss, a+da, pa+dpa)\n",
        "        ga = MI_disc_cont(xs, pxs, pygx, lpygx, Integrate, low, up, N, SNR, Gauss, lGauss, a+da+numdif, pa+dpa)\n",
        "        gpa = MI_disc_cont(xs, pxs, pygx, lpygx, Integrate, low, up, N, SNR, Gauss, lGauss, a+da, pa+dpa+numdif)\n",
        "        va = (ga - starting)/numdif\n",
        "        vpa = (gpa - starting)/numdif\n",
        "    da -= step*hatva\n",
        "    dpa -= step*hatvpa\n",
        "    starting = MI_disc_cont(xs, pxs, pygx, lpygx, Integrate, low, up, N, SNR, Gauss, lGauss, a+da, pa+dpa)\n",
        "    return np.array([starting, a+da, pa+dpa])"
      ],
      "execution_count": null,
      "outputs": []
    },
    {
      "cell_type": "code",
      "metadata": {
        "colab": {
          "base_uri": "https://localhost:8080/"
        },
        "id": "cCkFgvkILJt3",
        "outputId": "94f73333-3d02-41f9-e29d-064298c04037"
      },
      "source": [
        "a = 0.8\n",
        "pa = 0.25\n",
        "N = 2000\n",
        "k = np.linspace(-10, 20, 61)\n",
        "aas = np.zeros(len(k))\n",
        "paas = np.zeros(len(k))\n",
        "Hs = np.zeros(len(k))\n",
        "for l in range(len(k)):\n",
        "    up = 4.5 + 0.1*(20-k[l])\n",
        "    low = -4.5 - 0.1*(20-k[l])\n",
        "    res = grad_descent(xs, pxs, pygx, lpygx, Integrate, low, up, N, k[l], Gauss, lGauss, a, pa, numdif=0.003, step=0.003)\n",
        "    print(\"SNR =\", k[l])\n",
        "    print(res)\n",
        "    Hs[l] = res[0]\n",
        "    aas[l] = res[1]\n",
        "    paas[l] = res[2]"
      ],
      "execution_count": 10,
      "outputs": [
        {
          "output_type": "stream",
          "text": [
            "a = 0.8\n",
            "pa = 0.25\n",
            "b = 1.16619037896906\n",
            "pb = 0.25\n",
            "SNR = -10.0\n",
            "[0.05962943 0.99923105 0.15625087]\n",
            "a = 0.8\n",
            "pa = 0.25\n",
            "b = 1.16619037896906\n",
            "pb = 0.25\n",
            "SNR = -9.5\n",
            "[0.06884362 0.99918725 0.15617101]\n",
            "a = 0.8\n",
            "pa = 0.25\n",
            "b = 1.16619037896906\n",
            "pb = 0.25\n",
            "SNR = -9.0\n",
            "[0.07894931 0.99912615 0.15605969]\n",
            "a = 0.8\n",
            "pa = 0.25\n",
            "b = 1.16619037896906\n",
            "pb = 0.25\n",
            "SNR = -8.5\n",
            "[0.08996752 0.999042   0.15590651]\n",
            "a = 0.8\n",
            "pa = 0.25\n",
            "b = 1.16619037896906\n",
            "pb = 0.25\n",
            "SNR = -8.0\n",
            "[0.10192829 0.99892631 0.15569619]\n",
            "a = 0.8\n",
            "pa = 0.25\n",
            "b = 1.16619037896906\n",
            "pb = 0.25\n",
            "SNR = -7.5\n",
            "[0.11487636 0.99876502 0.15540347]\n",
            "a = 0.8\n",
            "pa = 0.25\n",
            "b = 1.16619037896906\n",
            "pb = 0.25\n",
            "SNR = -7.0\n",
            "[0.12887526 0.99853019 0.15497831]\n",
            "a = 0.8\n",
            "pa = 0.25\n",
            "b = 1.16619037896906\n",
            "pb = 0.25\n",
            "SNR = -6.5\n",
            "[0.14400857 1.00114716 0.15415416]\n",
            "a = 0.8\n",
            "pa = 0.25\n",
            "b = 1.16619037896906\n",
            "pb = 0.25\n",
            "SNR = -6.0\n",
            "[0.16037786 1.00035605 0.15278442]\n",
            "a = 0.8\n",
            "pa = 0.25\n",
            "b = 1.16619037896906\n",
            "pb = 0.25\n",
            "SNR = -5.5\n",
            "[0.17809745 0.99959068 0.14606841]\n",
            "a = 0.8\n",
            "pa = 0.25\n",
            "b = 1.16619037896906\n",
            "pb = 0.25\n",
            "SNR = -5.0\n",
            "[0.19735094 0.05154951 0.18520404]\n",
            "a = 0.8\n",
            "pa = 0.25\n",
            "b = 1.16619037896906\n",
            "pb = 0.25\n",
            "SNR = -4.5\n",
            "[0.21837666 0.1184935  0.26912494]\n",
            "a = 0.8\n",
            "pa = 0.25\n",
            "b = 1.16619037896906\n",
            "pb = 0.25\n",
            "SNR = -4.0\n",
            "[0.24122624 0.2598613  0.31399207]\n",
            "a = 0.8\n",
            "pa = 0.25\n",
            "b = 1.16619037896906\n",
            "pb = 0.25\n",
            "SNR = -3.5\n",
            "[0.26594475 0.58549243 0.39512071]\n",
            "a = 0.8\n",
            "pa = 0.25\n",
            "b = 1.16619037896906\n",
            "pb = 0.25\n",
            "SNR = -3.0\n",
            "[0.29268961 0.67464115 0.42727334]\n",
            "a = 0.8\n",
            "pa = 0.25\n",
            "b = 1.16619037896906\n",
            "pb = 0.25\n",
            "SNR = -2.5\n",
            "[0.32155981 0.67464301 0.43067395]\n",
            "a = 0.8\n",
            "pa = 0.25\n",
            "b = 1.16619037896906\n",
            "pb = 0.25\n",
            "SNR = -2.0\n",
            "[0.35260108 0.67282981 0.43254399]\n",
            "a = 0.8\n",
            "pa = 0.25\n",
            "b = 1.16619037896906\n",
            "pb = 0.25\n",
            "SNR = -1.5\n",
            "[0.38588307 0.67365344 0.43340455]\n",
            "a = 0.8\n",
            "pa = 0.25\n",
            "b = 1.16619037896906\n",
            "pb = 0.25\n",
            "SNR = -1.0\n",
            "[0.42146419 0.67362057 0.43337573]\n",
            "a = 0.8\n",
            "pa = 0.25\n",
            "b = 1.16619037896906\n",
            "pb = 0.25\n",
            "SNR = -0.5\n",
            "[0.45938557 0.67326874 0.43314678]\n",
            "a = 0.8\n",
            "pa = 0.25\n",
            "b = 1.16619037896906\n",
            "pb = 0.25\n",
            "SNR = 0.0\n",
            "[0.49967021 0.67272133 0.43280065]\n",
            "a = 0.8\n",
            "pa = 0.25\n",
            "b = 1.16619037896906\n",
            "pb = 0.25\n",
            "SNR = 0.5\n",
            "[0.54232084 0.67199324 0.43233602]\n",
            "a = 0.8\n",
            "pa = 0.25\n",
            "b = 1.16619037896906\n",
            "pb = 0.25\n",
            "SNR = 1.0\n",
            "[0.58731842 0.67105133 0.43170492]\n",
            "a = 0.8\n",
            "pa = 0.25\n",
            "b = 1.16619037896906\n",
            "pb = 0.25\n",
            "SNR = 1.5\n",
            "[0.63462061 0.6698395  0.43079008]\n",
            "a = 0.8\n",
            "pa = 0.25\n",
            "b = 1.16619037896906\n",
            "pb = 0.25\n",
            "SNR = 2.0\n",
            "[0.68415936 0.66836085 0.4293682 ]\n",
            "a = 0.8\n",
            "pa = 0.25\n",
            "b = 1.16619037896906\n",
            "pb = 0.25\n",
            "SNR = 2.5\n",
            "[0.73583138 0.66687168 0.42732577]\n",
            "a = 0.8\n",
            "pa = 0.25\n",
            "b = 1.16619037896906\n",
            "pb = 0.25\n",
            "SNR = 3.0\n",
            "[0.7895391  0.66251037 0.4249057 ]\n",
            "a = 0.8\n",
            "pa = 0.25\n",
            "b = 1.16619037896906\n",
            "pb = 0.25\n",
            "SNR = 3.5\n",
            "[0.84516094 0.65541669 0.42180321]\n",
            "a = 0.8\n",
            "pa = 0.25\n",
            "b = 1.16619037896906\n",
            "pb = 0.25\n",
            "SNR = 4.0\n",
            "[0.90268701 0.6358882  0.41411814]\n",
            "a = 0.8\n",
            "pa = 0.25\n",
            "b = 1.16619037896906\n",
            "pb = 0.25\n",
            "SNR = 4.5\n",
            "[0.96179523 0.60988231 0.40365506]\n",
            "a = 0.8\n",
            "pa = 0.25\n",
            "b = 1.16619037896906\n",
            "pb = 0.25\n",
            "SNR = 5.0\n",
            "[1.02214436 0.59571804 0.39637226]\n",
            "a = 0.8\n",
            "pa = 0.25\n",
            "b = 1.16619037896906\n",
            "pb = 0.25\n",
            "SNR = 5.5\n",
            "[1.0835932  0.58695845 0.3912213 ]\n",
            "a = 0.8\n",
            "pa = 0.25\n",
            "b = 1.16619037896906\n",
            "pb = 0.25\n",
            "SNR = 6.0\n",
            "[1.14585189 0.57517716 0.38469013]\n",
            "a = 0.8\n",
            "pa = 0.25\n",
            "b = 1.16619037896906\n",
            "pb = 0.25\n",
            "SNR = 6.5\n",
            "[1.20860044 0.56607107 0.37877216]\n",
            "a = 0.8\n",
            "pa = 0.25\n",
            "b = 1.16619037896906\n",
            "pb = 0.25\n",
            "SNR = 7.0\n",
            "[1.27148913 0.55402713 0.37146798]\n",
            "a = 0.8\n",
            "pa = 0.25\n",
            "b = 1.16619037896906\n",
            "pb = 0.25\n",
            "SNR = 7.5\n",
            "[1.33413668 0.54473779 0.36482141]\n",
            "a = 0.8\n",
            "pa = 0.25\n",
            "b = 1.16619037896906\n",
            "pb = 0.25\n",
            "SNR = 8.0\n",
            "[1.39612926 0.53542485 0.35784704]\n",
            "a = 0.8\n",
            "pa = 0.25\n",
            "b = 1.16619037896906\n",
            "pb = 0.25\n",
            "SNR = 8.5\n",
            "[1.45703042 0.52613402 0.35057655]\n",
            "a = 0.8\n",
            "pa = 0.25\n",
            "b = 1.16619037896906\n",
            "pb = 0.25\n",
            "SNR = 9.0\n",
            "[1.51638416 0.51690734 0.34304851]\n",
            "a = 0.8\n",
            "pa = 0.25\n",
            "b = 1.16619037896906\n",
            "pb = 0.25\n",
            "SNR = 9.5\n",
            "[1.57372254 0.50778045 0.33530794]\n",
            "a = 0.8\n",
            "pa = 0.25\n",
            "b = 1.16619037896906\n",
            "pb = 0.25\n",
            "SNR = 10.0\n",
            "[1.62857532 0.49878002 0.32740606]\n",
            "a = 0.8\n",
            "pa = 0.25\n",
            "b = 1.16619037896906\n",
            "pb = 0.25\n",
            "SNR = 10.5\n",
            "[1.68049471 0.49274634 0.32041114]\n",
            "a = 0.8\n",
            "pa = 0.25\n",
            "b = 1.16619037896906\n",
            "pb = 0.25\n",
            "SNR = 11.0\n",
            "[1.72903813 0.48403956 0.31234982]\n",
            "a = 0.8\n",
            "pa = 0.25\n",
            "b = 1.16619037896906\n",
            "pb = 0.25\n",
            "SNR = 11.5\n",
            "[1.7738285  0.47831136 0.30528437]\n",
            "a = 0.8\n",
            "pa = 0.25\n",
            "b = 1.16619037896906\n",
            "pb = 0.25\n",
            "SNR = 12.0\n",
            "[1.81452862 0.47272497 0.29826441]\n",
            "a = 0.8\n",
            "pa = 0.25\n",
            "b = 1.16619037896906\n",
            "pb = 0.25\n",
            "SNR = 12.5\n",
            "[1.85089089 0.46726067 0.29135953]\n",
            "a = 0.8\n",
            "pa = 0.25\n",
            "b = 1.16619037896906\n",
            "pb = 0.25\n",
            "SNR = 13.0\n",
            "[1.88275929 0.46189427 0.28465189]\n",
            "a = 0.8\n",
            "pa = 0.25\n",
            "b = 1.16619037896906\n",
            "pb = 0.25\n",
            "SNR = 13.5\n",
            "[1.91008249 0.45660074 0.27823872]\n",
            "a = 0.8\n",
            "pa = 0.25\n",
            "b = 1.16619037896906\n",
            "pb = 0.25\n",
            "SNR = 14.0\n",
            "[1.93293148 0.45427592 0.27292824]\n",
            "a = 0.8\n",
            "pa = 0.25\n",
            "b = 1.16619037896906\n",
            "pb = 0.25\n",
            "SNR = 14.5\n",
            "[1.95150306 0.44908626 0.26736493]\n",
            "a = 0.8\n",
            "pa = 0.25\n",
            "b = 1.16619037896906\n",
            "pb = 0.25\n",
            "SNR = 15.0\n",
            "[1.96611102 0.44687628 0.26296169]\n",
            "a = 0.8\n",
            "pa = 0.25\n",
            "b = 1.16619037896906\n",
            "pb = 0.25\n",
            "SNR = 15.5\n",
            "[1.97717342 0.4447206  0.25911642]\n",
            "a = 0.8\n",
            "pa = 0.25\n",
            "b = 1.16619037896906\n",
            "pb = 0.25\n",
            "SNR = 16.0\n",
            "[1.9851947  0.44261637 0.25590367]\n",
            "a = 0.8\n",
            "pa = 0.25\n",
            "b = 1.16619037896906\n",
            "pb = 0.25\n",
            "SNR = 16.5\n",
            "[1.99073053 0.44355529 0.25360285]\n",
            "a = 0.8\n",
            "pa = 0.25\n",
            "b = 1.16619037896906\n",
            "pb = 0.25\n",
            "SNR = 17.0\n",
            "[1.9943386  0.44156686 0.25164267]\n",
            "a = 0.8\n",
            "pa = 0.25\n",
            "b = 1.16619037896906\n",
            "pb = 0.25\n",
            "SNR = 17.5\n",
            "[1.99654217 0.44263867 0.25039718]\n",
            "a = 0.8\n",
            "pa = 0.25\n",
            "b = 1.16619037896906\n",
            "pb = 0.25\n",
            "SNR = 18.0\n",
            "[1.9978019  0.44079026 0.24974955]\n",
            "a = 0.8\n",
            "pa = 0.25\n",
            "b = 1.16619037896906\n",
            "pb = 0.25\n",
            "SNR = 18.5\n",
            "[1.99844821 0.45453513 0.25071518]\n",
            "a = 0.8\n",
            "pa = 0.25\n",
            "b = 1.16619037896906\n",
            "pb = 0.25\n",
            "SNR = 19.0\n",
            "[1.99865198 0.47933118 0.24939316]\n",
            "a = 0.8\n",
            "pa = 0.25\n",
            "b = 1.16619037896906\n",
            "pb = 0.25\n",
            "SNR = 19.5\n",
            "[1.99874195 0.50475803 0.24947828]\n",
            "a = 0.8\n",
            "pa = 0.25\n",
            "b = 1.16619037896906\n",
            "pb = 0.25\n",
            "SNR = 20.0\n",
            "[1.99878377 0.53021021 0.24917755]\n"
          ],
          "name": "stdout"
        }
      ]
    },
    {
      "cell_type": "code",
      "metadata": {
        "id": "42VPEBs-L9gp",
        "colab": {
          "base_uri": "https://localhost:8080/"
        },
        "outputId": "3da9dc97-a181-496d-d695-4edbe5b3c1f9"
      },
      "source": [
        "paas"
      ],
      "execution_count": 11,
      "outputs": [
        {
          "output_type": "execute_result",
          "data": {
            "text/plain": [
              "array([0.15625087, 0.15617101, 0.15605969, 0.15590651, 0.15569619,\n",
              "       0.15540347, 0.15497831, 0.15415416, 0.15278442, 0.14606841,\n",
              "       0.18520404, 0.26912494, 0.31399207, 0.39512071, 0.42727334,\n",
              "       0.43067395, 0.43254399, 0.43340455, 0.43337573, 0.43314678,\n",
              "       0.43280065, 0.43233602, 0.43170492, 0.43079008, 0.4293682 ,\n",
              "       0.42732577, 0.4249057 , 0.42180321, 0.41411814, 0.40365506,\n",
              "       0.39637226, 0.3912213 , 0.38469013, 0.37877216, 0.37146798,\n",
              "       0.36482141, 0.35784704, 0.35057655, 0.34304851, 0.33530794,\n",
              "       0.32740606, 0.32041114, 0.31234982, 0.30528437, 0.29826441,\n",
              "       0.29135953, 0.28465189, 0.27823872, 0.27292824, 0.26736493,\n",
              "       0.26296169, 0.25911642, 0.25590367, 0.25360285, 0.25164267,\n",
              "       0.25039718, 0.24974955, 0.25071518, 0.24939316, 0.24947828,\n",
              "       0.24917755])"
            ]
          },
          "metadata": {
            "tags": []
          },
          "execution_count": 11
        }
      ]
    },
    {
      "cell_type": "code",
      "metadata": {
        "colab": {
          "base_uri": "https://localhost:8080/"
        },
        "id": "Q5tY57GQ5Bbg",
        "outputId": "a1c7b041-88ef-4b7e-acc3-6ada4d85fadf"
      },
      "source": [
        "aas"
      ],
      "execution_count": 12,
      "outputs": [
        {
          "output_type": "execute_result",
          "data": {
            "text/plain": [
              "array([0.99923105, 0.99918725, 0.99912615, 0.999042  , 0.99892631,\n",
              "       0.99876502, 0.99853019, 1.00114716, 1.00035605, 0.99959068,\n",
              "       0.05154951, 0.1184935 , 0.2598613 , 0.58549243, 0.67464115,\n",
              "       0.67464301, 0.67282981, 0.67365344, 0.67362057, 0.67326874,\n",
              "       0.67272133, 0.67199324, 0.67105133, 0.6698395 , 0.66836085,\n",
              "       0.66687168, 0.66251037, 0.65541669, 0.6358882 , 0.60988231,\n",
              "       0.59571804, 0.58695845, 0.57517716, 0.56607107, 0.55402713,\n",
              "       0.54473779, 0.53542485, 0.52613402, 0.51690734, 0.50778045,\n",
              "       0.49878002, 0.49274634, 0.48403956, 0.47831136, 0.47272497,\n",
              "       0.46726067, 0.46189427, 0.45660074, 0.45427592, 0.44908626,\n",
              "       0.44687628, 0.4447206 , 0.44261637, 0.44355529, 0.44156686,\n",
              "       0.44263867, 0.44079026, 0.45453513, 0.47933118, 0.50475803,\n",
              "       0.53021021])"
            ]
          },
          "metadata": {
            "tags": []
          },
          "execution_count": 12
        }
      ]
    },
    {
      "cell_type": "code",
      "metadata": {
        "id": "6LFoAYX45PkH",
        "colab": {
          "base_uri": "https://localhost:8080/"
        },
        "outputId": "a7e866e4-29b2-4eaa-c8b7-9ce4767aa2fd"
      },
      "source": [
        "Hs"
      ],
      "execution_count": 13,
      "outputs": [
        {
          "output_type": "execute_result",
          "data": {
            "text/plain": [
              "array([0.05962943, 0.06884362, 0.07894931, 0.08996752, 0.10192829,\n",
              "       0.11487636, 0.12887526, 0.14400857, 0.16037786, 0.17809745,\n",
              "       0.19735094, 0.21837666, 0.24122624, 0.26594475, 0.29268961,\n",
              "       0.32155981, 0.35260108, 0.38588307, 0.42146419, 0.45938557,\n",
              "       0.49967021, 0.54232084, 0.58731842, 0.63462061, 0.68415936,\n",
              "       0.73583138, 0.7895391 , 0.84516094, 0.90268701, 0.96179523,\n",
              "       1.02214436, 1.0835932 , 1.14585189, 1.20860044, 1.27148913,\n",
              "       1.33413668, 1.39612926, 1.45703042, 1.51638416, 1.57372254,\n",
              "       1.62857532, 1.68049471, 1.72903813, 1.7738285 , 1.81452862,\n",
              "       1.85089089, 1.88275929, 1.91008249, 1.93293148, 1.95150306,\n",
              "       1.96611102, 1.97717342, 1.9851947 , 1.99073053, 1.9943386 ,\n",
              "       1.99654217, 1.9978019 , 1.99844821, 1.99865198, 1.99874195,\n",
              "       1.99878377])"
            ]
          },
          "metadata": {
            "tags": []
          },
          "execution_count": 13
        }
      ]
    },
    {
      "cell_type": "code",
      "metadata": {
        "colab": {
          "base_uri": "https://localhost:8080/"
        },
        "id": "Qb11crH5IjHS",
        "outputId": "b616300a-d1c5-425b-deb5-706c9a1bf613"
      },
      "source": [
        "pbbs = 0.5 - paas\n",
        "pbbs"
      ],
      "execution_count": 14,
      "outputs": [
        {
          "output_type": "execute_result",
          "data": {
            "text/plain": [
              "array([0.34374913, 0.34382899, 0.34394031, 0.34409349, 0.34430381,\n",
              "       0.34459653, 0.34502169, 0.34584584, 0.34721558, 0.35393159,\n",
              "       0.31479596, 0.23087506, 0.18600793, 0.10487929, 0.07272666,\n",
              "       0.06932605, 0.06745601, 0.06659545, 0.06662427, 0.06685322,\n",
              "       0.06719935, 0.06766398, 0.06829508, 0.06920992, 0.0706318 ,\n",
              "       0.07267423, 0.0750943 , 0.07819679, 0.08588186, 0.09634494,\n",
              "       0.10362774, 0.1087787 , 0.11530987, 0.12122784, 0.12853202,\n",
              "       0.13517859, 0.14215296, 0.14942345, 0.15695149, 0.16469206,\n",
              "       0.17259394, 0.17958886, 0.18765018, 0.19471563, 0.20173559,\n",
              "       0.20864047, 0.21534811, 0.22176128, 0.22707176, 0.23263507,\n",
              "       0.23703831, 0.24088358, 0.24409633, 0.24639715, 0.24835733,\n",
              "       0.24960282, 0.25025045, 0.24928482, 0.25060684, 0.25052172,\n",
              "       0.25082245])"
            ]
          },
          "metadata": {
            "tags": []
          },
          "execution_count": 14
        }
      ]
    },
    {
      "cell_type": "code",
      "metadata": {
        "colab": {
          "base_uri": "https://localhost:8080/"
        },
        "id": "wiqCncJ2TJvX",
        "outputId": "57dac195-10a0-4599-a7ea-4fd75f5a22fa"
      },
      "source": [
        "bbs = np.sqrt((0.5-(aas**2)*paas)/(0.5-paas))\n",
        "bbs"
      ],
      "execution_count": 15,
      "outputs": [
        {
          "output_type": "execute_result",
          "data": {
            "text/plain": [
              "array([1.00034933, 1.00036894, 1.00039625, 1.00043376, 1.00048515,\n",
              "       1.00055644, 1.00065951, 0.99948825, 0.99984329, 1.00016888,\n",
              "       1.25966941, 1.46605138, 1.60438974, 1.86438208, 2.04965362,\n",
              "       2.09399419, 2.12353912, 2.1341561 , 2.13380803, 2.13123626,\n",
              "       2.12740515, 2.12229547, 2.11534522, 2.10513759, 2.08888796,\n",
              "       2.06520437, 2.04322201, 2.01914948, 1.96778473, 1.90559841,\n",
              "       1.86213859, 1.83232781, 1.79790168, 1.76727827, 1.73291147,\n",
              "       1.70234178, 1.67202513, 1.64217183, 1.6129768 , 1.58461756,\n",
              "       1.55725442, 1.53328092, 1.50815848, 1.48632177, 1.46563803,\n",
              "       1.44622709, 1.42822134, 1.41177066, 1.39782165, 1.38473903,\n",
              "       1.37398162, 1.36489747, 1.35756619, 1.35157293, 1.34746715,\n",
              "       1.34410936, 1.34316465, 1.34087666, 1.32910171, 1.3198922 ,\n",
              "       1.30926037])"
            ]
          },
          "metadata": {
            "tags": []
          },
          "execution_count": 15
        }
      ]
    },
    {
      "cell_type": "code",
      "metadata": {
        "colab": {
          "base_uri": "https://localhost:8080/",
          "height": 404
        },
        "id": "8WyajbYCTlsP",
        "outputId": "5eba8cae-a7f0-43f5-a28f-43f398599d0e"
      },
      "source": [
        "plt.figure(figsize=(15,6))\n",
        "plt.plot(k,Hs)\n",
        "plt.title(\"Capacity\")\n",
        "plt.xlabel(\"SNR\")\n",
        "plt.ylabel(\"I(X;Y)\")\n",
        "plt.show()"
      ],
      "execution_count": 16,
      "outputs": [
        {
          "output_type": "display_data",
          "data": {
            "image/png": "[encoded data removed]",
            "text/plain": [
              "<Figure size 1080x432 with 1 Axes>"
            ]
          },
          "metadata": {
            "tags": [],
            "needs_background": "light"
          }
        }
      ]
    },
    {
      "cell_type": "code",
      "metadata": {
        "colab": {
          "base_uri": "https://localhost:8080/",
          "height": 404
        },
        "id": "c4xv_ygeUSvP",
        "outputId": "45717a1b-0426-4f1d-8740-7dbb5babd614"
      },
      "source": [
        "plt.figure(figsize=(15,6))\n",
        "plt.plot(k,aas)\n",
        "plt.title(\"Optimum Parameter a\")\n",
        "plt.xlabel(\"SNR\")\n",
        "plt.ylabel(\"a\")\n",
        "plt.show()"
      ],
      "execution_count": 17,
      "outputs": [
        {
          "output_type": "display_data",
          "data": {
            "image/png": "[encoded data removed]",
            "text/plain": [
              "<Figure size 1080x432 with 1 Axes>"
            ]
          },
          "metadata": {
            "tags": [],
            "needs_background": "light"
          }
        }
      ]
    },
    {
      "cell_type": "code",
      "metadata": {
        "colab": {
          "base_uri": "https://localhost:8080/",
          "height": 404
        },
        "id": "_bDfhKRkUf4E",
        "outputId": "cdb755b4-de0c-4268-dc90-ef4e152f8839"
      },
      "source": [
        "plt.figure(figsize=(15,6))\n",
        "plt.plot(k,bbs)\n",
        "plt.title(\"Optimum Parameter b\")\n",
        "plt.xlabel(\"SNR\")\n",
        "plt.ylabel(\"b\")\n",
        "plt.show()"
      ],
      "execution_count": 18,
      "outputs": [
        {
          "output_type": "display_data",
          "data": {
            "image/png": "[encoded data removed]",
            "text/plain": [
              "<Figure size 1080x432 with 1 Axes>"
            ]
          },
          "metadata": {
            "tags": [],
            "needs_background": "light"
          }
        }
      ]
    },
    {
      "cell_type": "code",
      "metadata": {
        "colab": {
          "base_uri": "https://localhost:8080/",
          "height": 404
        },
        "id": "44noV9LvU4jT",
        "outputId": "6d80408c-ed50-4d5f-84fe-33701db50f6c"
      },
      "source": [
        "plt.figure(figsize=(15,6))\n",
        "plt.plot(k,paas)\n",
        "plt.title(\"Optimum Parameter pa\")\n",
        "plt.xlabel(\"SNR\")\n",
        "plt.ylabel(\"pa\")\n",
        "plt.show()"
      ],
      "execution_count": 19,
      "outputs": [
        {
          "output_type": "display_data",
          "data": {
            "image/png": "[encoded data removed]",
            "text/plain": [
              "<Figure size 1080x432 with 1 Axes>"
            ]
          },
          "metadata": {
            "tags": [],
            "needs_background": "light"
          }
        }
      ]
    },
    {
      "cell_type": "code",
      "metadata": {
        "colab": {
          "base_uri": "https://localhost:8080/",
          "height": 404
        },
        "id": "tMg0BxkvVOQw",
        "outputId": "6c08a886-e278-4720-8713-9beb5e90cc35"
      },
      "source": [
        "plt.figure(figsize=(15,6))\n",
        "plt.plot(k,pbbs)\n",
        "plt.title(\"Optimum Parameter pb\")\n",
        "plt.xlabel(\"SNR\")\n",
        "plt.ylabel(\"pb\")\n",
        "plt.show()"
      ],
      "execution_count": 20,
      "outputs": [
        {
          "output_type": "display_data",
          "data": {
            "image/png": "[encoded data removed]",
            "text/plain": [
              "<Figure size 1080x432 with 1 Axes>"
            ]
          },
          "metadata": {
            "tags": [],
            "needs_background": "light"
          }
        }
      ]
    },
    {
      "cell_type": "code",
      "metadata": {
        "id": "AzhmC1mtVaX7"
      },
      "source": [
        ""
      ],
      "execution_count": null,
      "outputs": []
    }
  ]
}