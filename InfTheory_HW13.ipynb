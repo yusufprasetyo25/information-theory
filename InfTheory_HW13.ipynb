{
 "cells": [
  {
   "cell_type": "markdown",
   "metadata": {},
   "source": [
    "### Arimoto-Blahut Algorithm for Capacity"
   ]
  },
  {
   "cell_type": "code",
   "execution_count": 81,
   "metadata": {},
   "outputs": [],
   "source": [
    "import numpy as np\n",
    "import matplotlib.pyplot as plt\n",
    "import math"
   ]
  },
  {
   "cell_type": "code",
   "execution_count": 82,
   "metadata": {},
   "outputs": [],
   "source": [
    "def p_exp(e,x):\n",
    "    \"\"\"\n",
    "    Practical exponentiation\n",
    "    returns 1 if given 0 to the power 0\n",
    "    \"\"\"\n",
    "    if e == 0 and x == 0:\n",
    "        return 1\n",
    "    else:\n",
    "        return e**x"
   ]
  },
  {
   "cell_type": "code",
   "execution_count": 83,
   "metadata": {},
   "outputs": [],
   "source": [
    "def entropy_1(px):\n",
    "    \"\"\"\n",
    "    Entropy count of one variable vector\n",
    "    Input: probability\n",
    "    Output: entropy in nats\n",
    "    \"\"\"\n",
    "    Hx = []\n",
    "    for i in range(len(px)):\n",
    "        if px[i] == 0:\n",
    "            Hx.append(0)\n",
    "        else:\n",
    "            Hx.append(-px[i]*np.log(px[i]))\n",
    "    return np.sum(Hx)"
   ]
  },
  {
   "cell_type": "code",
   "execution_count": 84,
   "metadata": {},
   "outputs": [],
   "source": [
    "def entropy_2(pxy):\n",
    "    \"\"\"\n",
    "    Entropy count of two variable matrix\n",
    "    Input: joint probability\n",
    "    Output: joint entropy in nats\n",
    "    \"\"\"\n",
    "    Hxy = []\n",
    "    for i in range(len(pxy)):\n",
    "        for j in range(len(pxy[0])):\n",
    "            if pxy[i][j] == 0:\n",
    "                Hxy.append(0)\n",
    "            else:\n",
    "                Hxy.append(-pxy[i][j]*np.log(pxy[i][j]))\n",
    "    return np.sum(Hxy)"
   ]
  },
  {
   "cell_type": "code",
   "execution_count": 85,
   "metadata": {},
   "outputs": [],
   "source": [
    "def capacity(pxy, entropy_2, entropy_1):\n",
    "    \"\"\"\n",
    "    Capacity count of two variables\n",
    "    Input: joint distribution\n",
    "    Output: mutual information in bits\n",
    "    \"\"\"\n",
    "    Hxy = entropy_2(pxy)\n",
    "    Hy = entropy_1(np.sum(pxy, axis=0))\n",
    "    Hx = entropy_1(np.sum(pxy, axis=1))\n",
    "    return (Hx+Hy-Hxy)/np.log(2)"
   ]
  },
  {
   "cell_type": "code",
   "execution_count": 86,
   "metadata": {},
   "outputs": [],
   "source": [
    "def gen_pxgy(pygx, px, sx, sy):\n",
    "    \"\"\"\n",
    "    Generation of optimum px-given-y\n",
    "    Input: channel (pygx) and input distribution (assumed as constant)\n",
    "    Output: optimum px-given-y\n",
    "    \"\"\"\n",
    "    pxgy = np.zeros((sy,sx))\n",
    "    for i in range(sy):\n",
    "        mx = 0\n",
    "        for j in range(sx):\n",
    "            mx += px[j]*pygx[j][i]\n",
    "        for j in range(sx):\n",
    "            pxgy[i][j] = px[j]*pygx[j][i]/mx\n",
    "    return pxgy"
   ]
  },
  {
   "cell_type": "code",
   "execution_count": 109,
   "metadata": {},
   "outputs": [],
   "source": [
    "def gen_npx(pygx, pxgy, sx, sy, p_exp):\n",
    "    \"\"\"\n",
    "    Generation of optimum input distribution\n",
    "    Input: channel (pygx) and px-given-y\n",
    "    Output: optimum px\n",
    "    \"\"\"\n",
    "    npx = []\n",
    "    for i in range(sx):\n",
    "        tx = 1\n",
    "        for j in range(sy):\n",
    "            tx = tx * p_exp(pxgy[j][i],pygx[i][j])\n",
    "        npx.append(tx)\n",
    "    npx = npx/np.sum(npx)\n",
    "    return npx"
   ]
  },
  {
   "cell_type": "code",
   "execution_count": 110,
   "metadata": {},
   "outputs": [],
   "source": [
    "def gen_pxy(pygx, px, sx, sy):\n",
    "    \"\"\"\n",
    "    Generation of joint probability\n",
    "    Input: channel and input distribution\n",
    "    Output: joint probability pxy\n",
    "    \"\"\"\n",
    "    pxy = np.zeros((sx,sy))\n",
    "    for i in range(sx):\n",
    "        for j in range(sy):\n",
    "            pxy[i][j] = pygx[i][j]*px[i]\n",
    "    return pxy"
   ]
  },
  {
   "cell_type": "code",
   "execution_count": 111,
   "metadata": {},
   "outputs": [],
   "source": [
    "def AB_Capacity(pygx, capacity, entropy_1, entropy_2, gen_pxgy, gen_npx, gen_pxy, p_exp):\n",
    "    \"\"\"\n",
    "    Arimoto-Blahut algorithm for searching capacity of given Channel Pygx\n",
    "    Uses uniform distribution as first guess\n",
    "    Stops when input distribution is converged\n",
    "    Input: channel (pygx)\n",
    "    Output: optimum input distribution and capacity of channel\n",
    "    \"\"\"\n",
    "    sx = len(pygx)\n",
    "    sy = len(pygx[0])\n",
    "    px = np.zeros(sx)\n",
    "    npx = []\n",
    "    for i in range(sx):\n",
    "        npx.append(1/sx)\n",
    "    while np.linalg.norm(npx-px) > 10**-6:\n",
    "        px = npx\n",
    "        pxgy = gen_pxgy(pygx, px, sx, sy)\n",
    "        npx = gen_npx(pygx, pxgy, sx, sy, p_exp)\n",
    "    px = npx\n",
    "    print(\"Optimum channel usage is:\", px)\n",
    "    pxy = gen_pxy(pygx, px, sx, sy)\n",
    "    cap = capacity(pxy, entropy_2, entropy_1)\n",
    "    print(\"Maximum capacity is:\", cap)\n",
    "    return cap"
   ]
  },
  {
   "cell_type": "code",
   "execution_count": 112,
   "metadata": {},
   "outputs": [
    {
     "name": "stdout",
     "output_type": "stream",
     "text": [
      "Optimum channel usage is: [0.00194499 0.49857312 0.49948189]\n",
      "Maximum capacity is: 0.21262939018889393\n"
     ]
    }
   ],
   "source": [
    "# pygx = np.array([[0.75, 0.25, 0],\n",
    "#                 [0, 1, 0],\n",
    "#                 [0, 0.5, 0.5]])\n",
    "pygx = np.array([[1, 2, 3, 4, 5, 6, 7, 8, 9],\n",
    "                [5, 2, 8, 1, 3, 6, 4, 7, 9],\n",
    "                [5, 8, 2, 9, 7, 4, 6, 3, 1]])/45\n",
    "Capacity = AB_Capacity(pygx, capacity, entropy_1, entropy_2, gen_pxgy, gen_npx, gen_pxy, p_exp)"
   ]
  },
  {
   "cell_type": "code",
   "execution_count": null,
   "metadata": {},
   "outputs": [],
   "source": []
  }
 ],
 "metadata": {
  "kernelspec": {
   "display_name": "Python 3",
   "language": "python",
   "name": "python3"
  },
  "language_info": {
   "codemirror_mode": {
    "name": "ipython",
    "version": 3
   },
   "file_extension": ".py",
   "mimetype": "text/x-python",
   "name": "python",
   "nbconvert_exporter": "python",
   "pygments_lexer": "ipython3",
   "version": "3.8.5"
  }
 },
 "nbformat": 4,
 "nbformat_minor": 4
}
