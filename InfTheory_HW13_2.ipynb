{
 "cells": [
  {
   "cell_type": "markdown",
   "metadata": {},
   "source": [
    "### Arimoto-Blahut Algorithm for Rate-Distortion"
   ]
  },
  {
   "cell_type": "code",
   "execution_count": 10,
   "metadata": {},
   "outputs": [],
   "source": [
    "import numpy as np\n",
    "import matplotlib.pyplot as plt\n",
    "import math"
   ]
  },
  {
   "cell_type": "code",
   "execution_count": 11,
   "metadata": {},
   "outputs": [],
   "source": [
    "def p_exp(e,x):\n",
    "    \"\"\"\n",
    "    Practical exponentiation\n",
    "    returns 1 if given 0 to the power 0\n",
    "    \"\"\"\n",
    "    if e == 0 and x == 0:\n",
    "        return 1\n",
    "    else:\n",
    "        return e**x"
   ]
  },
  {
   "cell_type": "code",
   "execution_count": 12,
   "metadata": {},
   "outputs": [],
   "source": [
    "def entropy_1(px):\n",
    "    \"\"\"\n",
    "    Entropy count of one variable vector\n",
    "    Input: probability\n",
    "    Output: entropy in nats\n",
    "    \"\"\"\n",
    "    Hx = []\n",
    "    for i in range(len(px)):\n",
    "        if px[i] == 0:\n",
    "            Hx.append(0)\n",
    "        else:\n",
    "            Hx.append(-px[i]*np.log(px[i]))\n",
    "    return np.sum(Hx)"
   ]
  },
  {
   "cell_type": "code",
   "execution_count": 13,
   "metadata": {},
   "outputs": [],
   "source": [
    "def entropy_2(pxy):\n",
    "    \"\"\"\n",
    "    Entropy count of two variable matrix\n",
    "    Input: joint probability\n",
    "    Output: joint entropy in nats\n",
    "    \"\"\"\n",
    "    Hxy = []\n",
    "    for i in range(len(pxy)):\n",
    "        for j in range(len(pxy[0])):\n",
    "            if pxy[i][j] == 0:\n",
    "                Hxy.append(0)\n",
    "            else:\n",
    "                Hxy.append(-pxy[i][j]*np.log(pxy[i][j]))\n",
    "    return np.sum(Hxy)"
   ]
  },
  {
   "cell_type": "code",
   "execution_count": 14,
   "metadata": {},
   "outputs": [],
   "source": [
    "def rate(pxy, entropy_2, entropy_1):\n",
    "    \"\"\"\n",
    "    Capacity count of two variables\n",
    "    Input: joint distribution\n",
    "    Output: mutual information in bits\n",
    "    \"\"\"\n",
    "    Hxy = entropy_2(pxy)\n",
    "    Hy = entropy_1(np.sum(pxy, axis=0))\n",
    "    Hx = entropy_1(np.sum(pxy, axis=1))\n",
    "    return (Hx+Hy-Hxy)/np.log(2)"
   ]
  },
  {
   "cell_type": "code",
   "execution_count": 31,
   "metadata": {},
   "outputs": [],
   "source": [
    "def gen_pygx(py, dxxh, lam, sx, sy):\n",
    "    \"\"\"\n",
    "    Generation of optimum channel\n",
    "    Input: output probability, distortion matrix, and lambda value\n",
    "    Output: optimum channel\n",
    "    \"\"\"\n",
    "    pygx = np.zeros((sx, sy))\n",
    "    for i in range(sx):\n",
    "        my = 0\n",
    "        for j in range(sy):\n",
    "            my += py[j]*np.exp(lam*dxxh[i][j])\n",
    "        for j in range(sy):\n",
    "            pygx[i][j] = py[j]*np.exp(lam*dxxh[i][j])/my\n",
    "    return pygx"
   ]
  },
  {
   "cell_type": "code",
   "execution_count": 29,
   "metadata": {},
   "outputs": [],
   "source": [
    "def gen_npy(px, pygx, sy, sx):\n",
    "    \"\"\"\n",
    "    Generation of optimum output distribution\n",
    "    Input: channel (pygx) and px\n",
    "    Output: optimum py\n",
    "    \"\"\"\n",
    "    npy = []\n",
    "    for i in range(sy):\n",
    "        pyc = 0\n",
    "        for j in range(sx):\n",
    "            pyc += px[j]*pygx[j][i]\n",
    "        npy.append(pyc)\n",
    "    npy = npy/np.sum(npy)\n",
    "    return npy"
   ]
  },
  {
   "cell_type": "code",
   "execution_count": 17,
   "metadata": {},
   "outputs": [],
   "source": [
    "def gen_pxy(pygx, px, sx, sy):\n",
    "    \"\"\"\n",
    "    Generation of joint probability\n",
    "    Input: channel and input distribution\n",
    "    Output: joint probability pxy\n",
    "    \"\"\"\n",
    "    pxy = np.zeros((sx,sy))\n",
    "    for i in range(sx):\n",
    "        for j in range(sy):\n",
    "            pxy[i][j] = pygx[i][j]*px[i]\n",
    "    return pxy"
   ]
  },
  {
   "cell_type": "code",
   "execution_count": 30,
   "metadata": {},
   "outputs": [],
   "source": [
    "def gen_D(pxy, dxxh):\n",
    "    \"\"\"\n",
    "    Calculation of distortion\n",
    "    Input: joint probability and distortion matrix\n",
    "    Output: distortion value\"\"\"\n",
    "    return np.sum(pxy*dxxh)"
   ]
  },
  {
   "cell_type": "code",
   "execution_count": 19,
   "metadata": {},
   "outputs": [],
   "source": [
    "def AB_Rate(px, dxxh, lams, gen_pygx, gen_npy, gen_pxy, rate, gen_D, entropy_2, entropy_1):\n",
    "    \"\"\"\n",
    "    Arimoto-Blahut algorithm for searching rate distortion of given input and distortion matrix\n",
    "    Uses uniform distribution as first guess\n",
    "    Stops when output distribution is converged\n",
    "    Input: input distribution and distortion matrix\n",
    "    Output: rate-distortion pairs\n",
    "    \"\"\"\n",
    "    sx = len(dxxh)\n",
    "    sy = len(dxxh[0])\n",
    "    rates = []\n",
    "    Ds = []\n",
    "    npy = []\n",
    "    for i in range(sy):\n",
    "        npy.append(1/sy)\n",
    "    for k in range(len(lams)):\n",
    "        py = np.zeros(sy)\n",
    "        while np.linalg.norm(npy-py) > 10**-6:\n",
    "            py = npy\n",
    "            pygx = gen_pygx(py, dxxh, lams[k], sx, sy)\n",
    "            npy = gen_npy(px, pygx, sy, sx)\n",
    "        py = npy\n",
    "        pxy = gen_pxy(pygx, px, sx, sy)\n",
    "        rat = rate(pxy, entropy_2, entropy_1)\n",
    "        D = gen_D(pxy, dxxh)\n",
    "        rates.append(rat)\n",
    "        Ds.append(D)\n",
    "    return rates, Ds"
   ]
  },
  {
   "cell_type": "code",
   "execution_count": 48,
   "metadata": {},
   "outputs": [],
   "source": [
    "px = np.array([0.2, 0.8])\n",
    "dxxh = np.array([[0, 1],\n",
    "                [1, 0]])\n",
    "lams = np.arange(-5, 0, 0.1)\n",
    "R, D = AB_Rate(px, dxxh, lams, gen_pygx, gen_npy, gen_pxy, rate, gen_D, entropy_2, entropy_1)"
   ]
  },
  {
   "cell_type": "code",
   "execution_count": 49,
   "metadata": {},
   "outputs": [],
   "source": [
    "def h(p):\n",
    "    \"\"\"\n",
    "    Binary entropy function\n",
    "    Input: one of two probability in the binary probability distribution\n",
    "    Output: binary entropy of input probability\n",
    "    \"\"\"\n",
    "    hp = -p*np.log(p)-(1-p)*np.log(1-p)\n",
    "    return hp/np.log(2)\n",
    "def maximum(a,b):\n",
    "    \"\"\"\n",
    "    Choose maximum number from two inputs\n",
    "    \"\"\"\n",
    "    if a < b:\n",
    "        return b\n",
    "    else:\n",
    "        return a"
   ]
  },
  {
   "cell_type": "code",
   "execution_count": 52,
   "metadata": {},
   "outputs": [],
   "source": [
    "d = np.arange(0.01, 0.2, 0.01)\n",
    "Rt = []\n",
    "for i in range(len(d)):\n",
    "    Rt.append(maximum(h(0.8)-h(d[i]),0))"
   ]
  },
  {
   "cell_type": "code",
   "execution_count": 53,
   "metadata": {},
   "outputs": [
    {
     "data": {
      "image/png": "[encoded data removed]",
      "text/plain": [
       "<Figure size 1080x432 with 1 Axes>"
      ]
     },
     "metadata": {
      "needs_background": "light"
     },
     "output_type": "display_data"
    }
   ],
   "source": [
    "plt.figure(figsize=(15,6))\n",
    "plt.scatter(D,R, color =\"green\", label=\"Arimoto-Blahut\", marker='o')\n",
    "plt.scatter(d,Rt, color=\"red\", label=\"Theory\", marker='x')\n",
    "plt.title(\"Rate-Distortion Graph\")\n",
    "plt.xlabel(\"Distortion\")\n",
    "plt.ylabel('Rate')\n",
    "plt.legend()\n",
    "plt.show()"
   ]
  },
  {
   "cell_type": "code",
   "execution_count": 54,
   "metadata": {},
   "outputs": [],
   "source": [
    "px = np.array([1/3, 1/3, 1/3])\n",
    "dxxh = np.array([[0, 1, 4],\n",
    "                [1, 0, 1],\n",
    "                [4, 1, 0]])\n",
    "lams = np.arange(-20, 0, 0.01)\n",
    "R, D = AB_Rate(px, dxxh, lams, gen_pygx, gen_npy, gen_pxy, rate, gen_D, entropy_2, entropy_1)"
   ]
  },
  {
   "cell_type": "code",
   "execution_count": 55,
   "metadata": {},
   "outputs": [
    {
     "data": {
      "image/png": "[encoded data removed]",
      "text/plain": [
       "<Figure size 1080x432 with 1 Axes>"
      ]
     },
     "metadata": {
      "needs_background": "light"
     },
     "output_type": "display_data"
    }
   ],
   "source": [
    "plt.figure(figsize=(15,6))\n",
    "plt.scatter(D,R, color =\"green\", label=\"Arimoto-Blahut\", marker='o')\n",
    "plt.title(\"Rate-Distortion Graph\")\n",
    "plt.xlabel(\"Distortion\")\n",
    "plt.ylabel('Rate')\n",
    "plt.legend()\n",
    "plt.show()"
   ]
  },
  {
   "cell_type": "code",
   "execution_count": 56,
   "metadata": {},
   "outputs": [
    {
     "name": "stdout",
     "output_type": "stream",
     "text": [
      "Our best approximation of R(0) is: 1.584962417459905\n",
      "with D equal to: 2.748204821421369e-09\n",
      "Theoretically, R(0) is log(3) = 1.5849625007211563\n"
     ]
    }
   ],
   "source": [
    "print(\"Our best approximation of R(0) is:\", R[0])\n",
    "print(\"with D equal to:\", D[0])\n",
    "print(\"Theoretically, R(0) is log(3) =\", np.log(3)/np.log(2))"
   ]
  },
  {
   "cell_type": "code",
   "execution_count": 57,
   "metadata": {},
   "outputs": [
    {
     "name": "stdout",
     "output_type": "stream",
     "text": [
      "Our calculated D* is: 0.6666666667542175\n",
      "with R equal to: 1.7298503120600557e-14 , approximately 0\n"
     ]
    }
   ],
   "source": [
    "print(\"Our calculated D* is:\", D[R.index(min(R))])\n",
    "print(\"with R equal to:\", min(R), \", approximately 0\")"
   ]
  },
  {
   "cell_type": "code",
   "execution_count": null,
   "metadata": {},
   "outputs": [],
   "source": []
  }
 ],
 "metadata": {
  "kernelspec": {
   "display_name": "Python 3",
   "language": "python",
   "name": "python3"
  },
  "language_info": {
   "codemirror_mode": {
    "name": "ipython",
    "version": 3
   },
   "file_extension": ".py",
   "mimetype": "text/x-python",
   "name": "python",
   "nbconvert_exporter": "python",
   "pygments_lexer": "ipython3",
   "version": "3.8.5"
  }
 },
 "nbformat": 4,
 "nbformat_minor": 4
}
